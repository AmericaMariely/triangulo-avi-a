{
  "cells": [
    {
      "cell_type": "code",
      "source": [
        "\n",
        "alumno = {\n",
        "    'nombre': 'America Mariely Aguiar Nuño',\n",
        "    'matricula': '231690547-6',\n",
        "    'edad': 17,\n",
        "    'peso': 70,\n",
        "    'telefono': '555-123-4567',\n",
        "    'domicilio': 'villa de montalvo',\n",
        "    'carrera': 'Ciencia de Datos e Inteligencia Artificial'\n",
        "}\n",
        "\n",
        "\n",
        "print(alumno)\n",
        "print()\n",
        "\n",
        "print(alumno['nombre'])\n",
        "print(alumno['matricula'])\n",
        "print()\n",
        "\n",
        "alumno['nombre'] = 'Maria Gonzalez'\n",
        "alumno['matricula'] = '231690845-9'\n",
        "print(\"Nombre modificado a:\", alumno['nombre'])\n",
        "print(\"nombre modificado a:\", alumno['matricula'])\n",
        "print()\n",
        "\n",
        "for clave in alumno:\n",
        "    print(clave)\n",
        "print()\n",
        "\n",
        "for clave, valor in alumno.items():\n",
        "    print(f\"{clave}: {valor}\")\n",
        "print()\n",
        "\n",
        "print(\" Diccionario final \")\n",
        "print(alumno)\n",
        "\n",
        "d3 = dict(Nombre='Sara',\n",
        "          Edad=27,\n",
        "          Documento=1003882)\n",
        "print(d3)"
      ],
      "metadata": {
        "colab": {
          "base_uri": "https://localhost:8080/"
        },
        "id": "Niqrzt-ymloH",
        "outputId": "9c88a02e-611c-41be-e894-fa920d589e51"
      },
      "execution_count": 11,
      "outputs": [
        {
          "output_type": "stream",
          "name": "stdout",
          "text": [
            "{'nombre': 'America Mariely Aguiar Nuño', 'matricula': '231690547-6', 'edad': 17, 'peso': 70, 'telefono': '555-123-4567', 'domicilio': 'villa de montalvo', 'carrera': 'Ciencia de Datos e Inteligencia Artificial'}\n",
            "\n",
            "America Mariely Aguiar Nuño\n",
            "231690547-6\n",
            "\n",
            "Nombre modificado a: Maria Gonzalez\n",
            "nombre modificado a: 231690845-9\n",
            "\n",
            "nombre\n",
            "matricula\n",
            "edad\n",
            "peso\n",
            "telefono\n",
            "domicilio\n",
            "carrera\n",
            "\n",
            "nombre: Maria Gonzalez\n",
            "matricula: 231690845-9\n",
            "edad: 17\n",
            "peso: 70\n",
            "telefono: 555-123-4567\n",
            "domicilio: villa de montalvo\n",
            "carrera: Ciencia de Datos e Inteligencia Artificial\n",
            "\n",
            " Diccionario final \n",
            "{'nombre': 'Maria Gonzalez', 'matricula': '231690845-9', 'edad': 17, 'peso': 70, 'telefono': '555-123-4567', 'domicilio': 'villa de montalvo', 'carrera': 'Ciencia de Datos e Inteligencia Artificial'}\n",
            "{'Nombre': 'Sara', 'Edad': 27, 'Documento': 1003882}\n"
          ]
        }
      ]
    }
  ],
  "metadata": {
    "colab": {
      "name": "Te damos la bienvenida a Colaboratory",
      "toc_visible": true,
      "provenance": []
    },
    "kernelspec": {
      "display_name": "Python 3",
      "name": "python3"
    }
  },
  "nbformat": 4,
  "nbformat_minor": 0
}