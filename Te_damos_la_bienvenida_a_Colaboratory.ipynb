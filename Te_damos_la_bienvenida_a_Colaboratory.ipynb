{
  "cells": [
    {
      "cell_type": "code",
      "source": [
        "class ProcesadorCalificaciones:\n",
        "    def leer_datos(self):\n",
        "        self.nombres = []\n",
        "        self.calificaciones = []\n",
        "        for i in range(10):\n",
        "            nombre = input(\"Nombre: \")\n",
        "            calif = float(input(\"Calificación: \"))\n",
        "            self.nombres.append(nombre)\n",
        "            self.calificaciones.append(calif)\n",
        "\n",
        "    def realizar_proceso(self):\n",
        "        self.promedio = sum(self.calificaciones) / 10\n",
        "        self.mayores = []\n",
        "        for i in range(10):\n",
        "            if self.calificaciones[i] > 9.5:\n",
        "                self.mayores.append(self.nombres[i])\n",
        "\n",
        "    def imprimir_resultados(self):\n",
        "        print(\"Promedio:\", self.promedio)\n",
        "        print(\"Alumnos > 9.5:\", self.mayores)\n",
        "\n",
        "# Usar la clase\n",
        "p = ProcesadorCalificaciones()\n",
        "p.leer_datos()\n",
        "p.realizar_proceso()\n",
        "p.imprimir_resultados()"
      ],
      "metadata": {
        "id": "AyRbkhCKznZL",
        "outputId": "63881ff7-77f8-4ba7-934a-bbf7094fe0c1",
        "colab": {
          "base_uri": "https://localhost:8080/"
        }
      },
      "execution_count": 6,
      "outputs": [
        {
          "output_type": "stream",
          "name": "stdout",
          "text": [
            "Nombre: panchito\n",
            "Calificación: 5\n",
            "Nombre: lupita\n",
            "Calificación: 7\n",
            "Nombre: carmen\n",
            "Calificación: 8\n",
            "Nombre: paco\n",
            "Calificación: 9\n",
            "Nombre: andrea\n",
            "Calificación: 5\n",
            "Nombre: anita\n",
            "Calificación: 9\n",
            "Nombre: palmerito\n",
            "Calificación: 9\n",
            "Nombre: taqito\n",
            "Calificación: 7\n",
            "Nombre: maria\n",
            "Calificación: 6\n",
            "Nombre: tata\n",
            "Calificación: 8\n",
            "Promedio: 7.3\n",
            "Alumnos > 9.5: []\n"
          ]
        }
      ]
    }
  ],
  "metadata": {
    "colab": {
      "name": "Te damos la bienvenida a Colaboratory",
      "toc_visible": true,
      "provenance": []
    },
    "kernelspec": {
      "display_name": "Python 3",
      "name": "python3"
    }
  },
  "nbformat": 4,
  "nbformat_minor": 0
}