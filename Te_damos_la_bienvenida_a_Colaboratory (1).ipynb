{
  "cells": [
    {
      "cell_type": "code",
      "source": [
        "class ConvertidorTemperatura:\n",
        "    def convertir(self, temperaturas_f):\n",
        "        temperaturas_c = []\n",
        "        for temp in temperaturas_f:\n",
        "            centigrados = (temp - 32) * 5/9\n",
        "            temperaturas_c.append(round(centigrados, 2))\n",
        "        return temperaturas_c\n",
        "\n",
        "temperaturas = [80, 72, 95, 82, 79, 72, 85]\n",
        "\n",
        "convertidor = ConvertidorTemperatura()\n",
        "resultado = convertidor.convertir(temperaturas)\n",
        "\n",
        "print(\"Fahrenheit:\", temperaturas)\n",
        "print(\"Centígrados:\", resultado)"
      ],
      "metadata": {
        "id": "2GA0Rgux41FX",
        "outputId": "3a53b2d3-4e53-4074-aa07-2d91e578d33c",
        "colab": {
          "base_uri": "https://localhost:8080/"
        }
      },
      "execution_count": 3,
      "outputs": [
        {
          "output_type": "stream",
          "name": "stdout",
          "text": [
            "Fahrenheit: [80, 72, 95, 82, 79, 72, 85]\n",
            "Centígrados: [26.67, 22.22, 35.0, 27.78, 26.11, 22.22, 29.44]\n"
          ]
        }
      ]
    }
  ],
  "metadata": {
    "colab": {
      "name": "Te damos la bienvenida a Colaboratory",
      "toc_visible": true,
      "provenance": []
    },
    "kernelspec": {
      "display_name": "Python 3",
      "name": "python3"
    }
  },
  "nbformat": 4,
  "nbformat_minor": 0
}