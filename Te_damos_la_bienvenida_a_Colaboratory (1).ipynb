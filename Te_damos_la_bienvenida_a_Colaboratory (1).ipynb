{
  "cells": [
    {
      "cell_type": "code",
      "source": [
        "class Triangulo:\n",
        "    def __init__(self):\n",
        "        self.base = 0.0\n",
        "        self.altura = 0.0\n",
        "        self.area = 0.0\n",
        "\n",
        "    def leer_datos(self):\n",
        "        \"\"\"Método para leer los datos de entrada del triángulo\"\"\"\n",
        "        print(\"=== CALCULAR ÁREA DE UN TRIÁNGULO ===\")\n",
        "        try:\n",
        "            self.base = float(input(\"Ingrese la base del triángulo: \"))\n",
        "            self.altura = float(input(\"Ingrese la altura del triángulo: \"))\n",
        "\n",
        "            # Validar que los valores sean positivos\n",
        "            if self.base <= 0 or self.altura <= 0:\n",
        "                raise ValueError(\"La base y altura deben ser valores positivos\")\n",
        "\n",
        "        except ValueError as e:\n",
        "            print(f\"Error: {e}\")\n",
        "            print(\"Por favor, ingrese valores numéricos válidos.\")\n",
        "            return False\n",
        "        return True\n",
        "\n",
        "    def calcular_area(self):\n",
        "        \"\"\"Método para calcular el área del triángulo\"\"\"\n",
        "        self.area = (self.base * self.altura) / 2\n",
        "        return self.area\n",
        "\n",
        "    def imprimir_resultados(self):\n",
        "        \"\"\"Método para imprimir los resultados\"\"\"\n",
        "        print(\"\\n\" + \"=\"*40)\n",
        "        print(\"RESULTADOS:\")\n",
        "        print(\"=\"*40)\n",
        "        print(f\"Base del triángulo: {self.base:.2f}\")\n",
        "        print(f\"Altura del triángulo: {self.altura:.2f}\")\n",
        "        print(f\"Área del triángulo: {self.area:.2f}\")\n",
        "        print(\"=\"*40)\n",
        "\n",
        "    def ejecutar_calculo(self):\n",
        "        \"\"\"Método principal que coordina todo el proceso\"\"\"\n",
        "        if self.leer_datos():\n",
        "            self.calcular_area()\n",
        "            self.imprimir_resultados()\n",
        "\n",
        "# Crear instancia y ejecutar el programa\n",
        "if __name__ == \"__main__\":\n",
        "    triangulo = Triangulo()\n",
        "    triangulo.ejecutar_calculo()"
      ],
      "metadata": {
        "id": "k3bYVwec3kAj",
        "outputId": "9461e14a-afea-4505-8020-02b377fd9591",
        "colab": {
          "base_uri": "https://localhost:8080/"
        }
      },
      "execution_count": 2,
      "outputs": [
        {
          "output_type": "stream",
          "name": "stdout",
          "text": [
            "=== CALCULAR ÁREA DE UN TRIÁNGULO ===\n",
            "Ingrese la base del triángulo: 5\n",
            "Ingrese la altura del triángulo: 3\n",
            "\n",
            "========================================\n",
            "RESULTADOS:\n",
            "========================================\n",
            "Base del triángulo: 5.00\n",
            "Altura del triángulo: 3.00\n",
            "Área del triángulo: 7.50\n",
            "========================================\n"
          ]
        }
      ]
    }
  ],
  "metadata": {
    "colab": {
      "name": "Te damos la bienvenida a Colaboratory",
      "toc_visible": true,
      "provenance": []
    },
    "kernelspec": {
      "display_name": "Python 3",
      "name": "python3"
    }
  },
  "nbformat": 4,
  "nbformat_minor": 0
}